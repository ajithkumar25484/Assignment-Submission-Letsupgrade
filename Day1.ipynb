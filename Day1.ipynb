{
 "cells": [
  {
   "cell_type": "code",
   "execution_count": null,
   "metadata": {},
   "outputs": [],
   "source": [
    "#QUESTION 1\n",
    "print(\"'OBANWRI' Guess the correct english word : \")\n",
    "print(\"A. RAINBOW \\nB. RAINBOW \\nC. BOWRANI \\nD. ROBWANI\")\n",
    "ch=input(\"Enter the correct option from the list\")\n",
    "if(ch=='A'or ch=='B'):\n",
    "    print(\"Correct Answer\")\n",
    "else:\n",
    "    print(\"Wrong Answer\")"
   ]
  },
  {
   "cell_type": "code",
   "execution_count": 6,
   "metadata": {},
   "outputs": [
    {
     "name": "stdout",
     "output_type": "stream",
     "text": [
      "LETS UPGRADE\n"
     ]
    }
   ],
   "source": [
    "#QUESTION 2\n",
    "string=\"lets upgrade\"\n",
    "print(string.upper())"
   ]
  },
  {
   "cell_type": "code",
   "execution_count": 7,
   "metadata": {},
   "outputs": [
    {
     "name": "stdout",
     "output_type": "stream",
     "text": [
      "20\n",
      "10\n",
      "Loss\n"
     ]
    }
   ],
   "source": [
    "#QUESTION 3\n",
    "c=int(input())\n",
    "s=int(input())\n",
    "if(c<s):\n",
    "    print(\"Profit\")\n",
    "if(c>s):\n",
    "    print(\"Loss\")\n",
    "if(c==s):\n",
    "    print(\"Neither\")"
   ]
  },
  {
   "cell_type": "code",
   "execution_count": 8,
   "metadata": {},
   "outputs": [
    {
     "name": "stdout",
     "output_type": "stream",
     "text": [
      "20\n",
      "1600\n"
     ]
    }
   ],
   "source": [
    "#QUESTION 4\n",
    "eur=int(input())\n",
    "print(eur*80)"
   ]
  },
  {
   "cell_type": "code",
   "execution_count": null,
   "metadata": {},
   "outputs": [],
   "source": []
  }
 ],
 "metadata": {
  "kernelspec": {
   "display_name": "Python 3",
   "language": "python",
   "name": "python3"
  },
  "language_info": {
   "codemirror_mode": {
    "name": "ipython",
    "version": 3
   },
   "file_extension": ".py",
   "mimetype": "text/x-python",
   "name": "python",
   "nbconvert_exporter": "python",
   "pygments_lexer": "ipython3",
   "version": "3.7.4"
  }
 },
 "nbformat": 4,
 "nbformat_minor": 2
}
